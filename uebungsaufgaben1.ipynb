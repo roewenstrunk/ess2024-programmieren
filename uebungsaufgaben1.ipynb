{
  "metadata": {
    "kernelspec": {
      "name": "python",
      "display_name": "Python (Pyodide)",
      "language": "python"
    },
    "language_info": {
      "codemirror_mode": {
        "name": "python",
        "version": 3
      },
      "file_extension": ".py",
      "mimetype": "text/x-python",
      "name": "python",
      "nbconvert_exporter": "python",
      "pygments_lexer": "ipython3",
      "version": "3.8"
    },
    "colab": {
      "name": "uebungsaufgaben1.ipynb",
      "provenance": [],
      "collapsed_sections": []
    }
  },
  "nbformat_minor": 4,
  "nbformat": 4,
  "cells": [
    {
      "cell_type": "markdown",
      "source": "# Übungsaufgaben 1\n\nBitte schreibt euer Programm immer erst im Pseudo-Code, damit ihr euch zuerst auf die Funktion des Programms konzentrieren könnt, ohne euch von den Besonderheiten der Python-Syntax ablenken zu lassen.",
      "metadata": {
        "id": "dnnNK4ySSDZE"
      }
    },
    {
      "cell_type": "code",
      "source": "# Schreibe ein Programm, das eine Zahl einliest und prüft,\n# ob diese gerade oder ungerade ist.\n# Hinweis: Der Operator 'modulo' kann hier helfen.\n\n",
      "metadata": {
        "id": "PqVCl_1wSDZG",
        "colab": {
          "base_uri": "https://localhost:8080/"
        },
        "outputId": "6cf1be2d-df12-4601-f5c3-84bad49fe302",
        "trusted": true
      },
      "outputs": [],
      "execution_count": null
    },
    {
      "cell_type": "code",
      "source": "# Schreibe ein Programm, das eine Jahreszahl einliest und\n# für diese Jahreszahl prüft, ob dieses Jahr ein Schaltjahr\n# ist.\n# Hinweis zur Berechnung: https://www.umrechnung.org/zeit-datum-kalender/schaltjahr.htm\n\n",
      "metadata": {
        "id": "oufxB-gLSDZH",
        "trusted": true
      },
      "outputs": [],
      "execution_count": null
    },
    {
      "cell_type": "code",
      "source": "# Schreibe ein Programm, das das Volumen eines Kegels\n# bestimmt. Lies dazu den Radius der Grundfläche und\n# die Höhe des Kegels ein.\n# Hinweis: Das Volumen v berechnet sich aus Grundfläche * Höhe * 1/3\n\n",
      "metadata": {
        "id": "nyj9UbbMSDZI",
        "trusted": true
      },
      "outputs": [],
      "execution_count": null
    },
    {
      "cell_type": "code",
      "source": "# Schreibe ein Programm, das berechnet, wie viele Tage seit\n# einem gegebenen Datum vergangen sind. Lest dazu das Datum\n# in drei Werten (Jahr, Monat, Tag) ein. Ihr könnt das heutige\n# Datum als Referenz fest in das Programm schreiben.\n# Hinweis: Fangt erstmal klein an und wählt ein Datum in diesem\n# Monat und berechnet nur die Tage. Dann erweitert es bis hin\n# zu der Frage, ob ein vergangenes Jahr ein Schaltjahr war.\n\n",
      "metadata": {
        "id": "HTrIMLV2SDZJ",
        "trusted": true
      },
      "outputs": [],
      "execution_count": null
    }
  ]
}