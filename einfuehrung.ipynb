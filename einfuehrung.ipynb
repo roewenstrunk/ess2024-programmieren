{
  "metadata": {
    "kernelspec": {
      "name": "python",
      "display_name": "Python (Pyodide)",
      "language": "python"
    },
    "language_info": {
      "codemirror_mode": {
        "name": "python",
        "version": 3
      },
      "file_extension": ".py",
      "mimetype": "text/x-python",
      "name": "python",
      "nbconvert_exporter": "python",
      "pygments_lexer": "ipython3",
      "version": "3.8"
    },
    "colab": {
      "name": "einfuehrung.ipynb",
      "provenance": []
    }
  },
  "nbformat_minor": 4,
  "nbformat": 4,
  "cells": [
    {
      "cell_type": "markdown",
      "source": "# Einführung\n\n## Jupyter Notebooks\n\nDas Jupyter-Notebook ist eine Open-Source-Webanwendung, mit der Sie Dokumente erstellen und austauschen können, die Live-Code, Gleichungen, Visualisierungen und erzählenden Text enthalten können. Zu den Verwendungszwecken gehören: Datenbereinigung und -transformation, numerische Simulation, statistische Modellierung, Datenvisualisierung, maschinelles Lernen und vieles mehr.",
      "metadata": {
        "id": "GIbq0p-qLIEN"
      }
    },
    {
      "cell_type": "code",
      "source": "print(\"hello world\")",
      "metadata": {
        "id": "7YT7tFWHLIER"
      },
      "outputs": [],
      "execution_count": null
    },
    {
      "cell_type": "markdown",
      "source": "## Jupyter Lab\n\nJupyter Lab von <a href=\"https://jupyter.org/\">Jupyter.org</a> ist eine Umgebung, in der wir Jupyter-Notebooks bearbeiten und ausführen können. Wir müssen dafür Pyton nicht selbst installieren. Es gibt verschiedene Anbieter von Jupyter-Umgebungen; manche erfordern einen Account, andere lassen sich frei nutzen.",
      "metadata": {
        "id": "rcr7h5AmLIET"
      }
    },
    {
      "cell_type": "markdown",
      "source": "## Python\n\n<img src=\"https://www.python.org/static/community_logos/python-logo-master-v3-TM.png\" alt=\"Python\" style=\"width:300px;\"/>\n\n[Python](https://www.python.org/) ist eine interpretierte, höhere Programmiersprache, die sowohl funktionale als auch objektorientierte Programmierung erlaubt. Python ist eine sogenannte Scriptsprache und wird über einen Interpreter ausgeführt.\n\nDie Bezeichnung \"Python\" geht auf die britische Komikergruppe [Monty Python](https://de.wikipedia.org/wiki/Monty_Python) zurück, die Assoziation zur Python (Schlange) hab sich allerdings durchgesetzt. <a href=\"https://www.python.org/\">Python</a> ist aktuell in der Version 3.12.6.",
      "metadata": {
        "id": "va5ZxVa7LIET"
      }
    },
    {
      "cell_type": "markdown",
      "source": "## Was ist ein Programm und wie können wir es aufschreiben?\n\nEin Programm ist eine Art Rezept. Die Zutaten werden über Deklarationen dem Koch bzw. dem Interpreter bekannt gemacht. Wie das Gericht mit Hilfe der Zutaten erstellt oder ein spezifisches Problem gelöst wird, wird mit Hilfe von Instruktionen festgehalten.",
      "metadata": {
        "id": "rd_1E_thLIEU"
      }
    },
    {
      "cell_type": "markdown",
      "source": "### Von der Idee zum Programm\n\nAusgehend von einer Idee beschreiben wir zunächst in unseren eigenen Worten, welches Ziel wir gern (mit Hilfe eines Programms) erreichen möchten. Eine solches Ziel könnte zum Beispiel sein, dass wir in einem Text die durchschnittliche Länge der Sätze (hier als Anzahl der Wörter) eines Texts ermitteln möchten.\n\nZiel: Das Programm soll einen Text einlesen und die durchschnittliche Wortanzahl der Sätze berechnen.\n\nNun fragen wir uns, welche Deklarationen und welche Instruktionen ein solches Programm braucht, um das Ziel zu erreichen.",
      "metadata": {
        "id": "3XTxV52kLIEU"
      }
    },
    {
      "cell_type": "markdown",
      "source": "### Pseudo-Code\n\nGegeben ist ein Text `text`  \nZerlege `text` in einzelne Sätze `sentence*`  \nZähle für jeden Satz `sentence` die Anzahl Wörter `word_count`  \nAddiere `word_count` zu `word_count_all`  \nTeile `word_count_all` durch Anzahl `sentence*` und gib das Ergebnis aus\n",
      "metadata": {
        "id": "Ma34pnsfLIEU"
      }
    },
    {
      "cell_type": "markdown",
      "source": "Welche Deklarationen brauchen wir?",
      "metadata": {
        "id": "H2V4vj1ELIEV"
      }
    },
    {
      "cell_type": "markdown",
      "source": "Ein Rezept besteht also aus folgenden Schritten:\n\n* Eine Anzahl einzelner Werte (Zutaten)\n* Eine Anzahl einzelner, einfacher Schritte\n* Eine Anweisung, in welcher Reihenfolge die Schritte prozessiert werden sollen\n* Eine Bedingung, wann das Rezept zuende ist\n\n=> Das ist ein Algorithmus",
      "metadata": {
        "id": "R1plupKWLIEW"
      }
    },
    {
      "cell_type": "markdown",
      "source": "### Syntax und Semantik\n\nDie Syntax eines Programms ist durch die Programmiersprache vorgegeben. Sie ist potentiell überprüfbar, was durch viele Editoren schon bei der Eingabe des Programms passiert.\n\nDie Semantik – Pseudo-Code beschreibt nur die Semantik – wird durch unser Programm vorgegeben, sie kann nicht von einem Editor, Compiler oder Interpreter überprüft werden. Wenn wir eine semantische Prüfung wollen, müssen wir hierzu Tests schreiben.",
      "metadata": {
        "id": "E7r4nUFqLIEX"
      }
    }
  ]
}