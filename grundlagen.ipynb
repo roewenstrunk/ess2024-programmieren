{
  "metadata": {
    "kernelspec": {
      "name": "python",
      "display_name": "Python (Pyodide)",
      "language": "python"
    },
    "language_info": {
      "codemirror_mode": {
        "name": "python",
        "version": 3
      },
      "file_extension": ".py",
      "mimetype": "text/x-python",
      "name": "python",
      "nbconvert_exporter": "python",
      "pygments_lexer": "ipython3",
      "version": "3.8"
    },
    "colab": {
      "name": "grundlagen.ipynb",
      "provenance": [],
      "collapsed_sections": []
    }
  },
  "nbformat_minor": 4,
  "nbformat": 4,
  "cells": [
    {
      "cell_type": "markdown",
      "source": "# Grundlegende Elemente der Programmierung",
      "metadata": {
        "id": "ZwxifnI0OvBW"
      }
    },
    {
      "cell_type": "markdown",
      "source": "## Variablen\n\nVariablen sind – wie Schubladen – Behälter, in die wir Wissen hineinlegen können. Auf dieses Wissen kann ein Programm zur Laufzeit zugreifen. Der Befriff 'Variable' kommt vom lateinischen 'variare' und bedeutet 'verändern'. Die Daten in Variablen sind veränderbar, während das Programm ausgeführt wird. Konstanten sind ebenfalls Behälter, die wir mit einem Datum füllen können, diese können aber nicht mehr verändert werden, wenn sie einmal deklariert sind.\n\nTechnisch sind Variablen Bereiche des (Arbeits-)Speichers des Computers. Wir geben einer Variablen im Quelltext unseres Programms einen Namen, damit wir diesen Speicherbereich addressieren können.",
      "metadata": {
        "id": "qqcxB2IlOvBa"
      }
    },
    {
      "cell_type": "code",
      "source": "a = 5\na",
      "metadata": {
        "id": "aQYtaVYyOvBb",
        "trusted": true
      },
      "outputs": [],
      "execution_count": null
    },
    {
      "cell_type": "markdown",
      "source": "Das Datum einer Variable wird in Python mit einem '=' Zeichen zugewiesen. Links vor dem Gleichheitszeichen steht der Name der Variable (die Adresse). Rechts von dem Gleichheitszeichen steht der Wert (das Datum).",
      "metadata": {
        "id": "2NalNdWlOvBc"
      }
    },
    {
      "cell_type": "code",
      "source": "a = 5\na = 12\na",
      "metadata": {
        "id": "s7sgWqe6OvBd",
        "trusted": true
      },
      "outputs": [],
      "execution_count": null
    },
    {
      "cell_type": "code",
      "source": "a",
      "metadata": {
        "id": "yB1DYnYGOvBd",
        "trusted": true
      },
      "outputs": [],
      "execution_count": null
    },
    {
      "cell_type": "code",
      "source": "b = 8\na = 22\nb",
      "metadata": {
        "id": "EMmsvzEdOvBe",
        "trusted": true
      },
      "outputs": [],
      "execution_count": null
    },
    {
      "cell_type": "markdown",
      "source": "## Datentypen\n\nGenauso wie es in einem Rezept unterschiedliche Arten von Zutaten gibt, gibt es in einem Programm unterschiedliche Arten von Variablenwerten bzw. von Datentypen.\n\nAlle Werte in Python sind Objekte und haben einen Typ. Wir können diesen Typ immer mit dem Befehl `type()` abfragen:",
      "metadata": {
        "id": "XWNcN58uOvBf"
      }
    },
    {
      "cell_type": "code",
      "source": "type(a)",
      "metadata": {
        "id": "-gSjTu_uOvBg",
        "trusted": true
      },
      "outputs": [],
      "execution_count": null
    },
    {
      "cell_type": "markdown",
      "source": "Wir unterscheiden primitive Datentypen und komplexe Datentypen. Komplexe Datentypen nutzen primitive Datentypen, um Strukturen zu erzeugen.\n\nPrimitive Typen sind\n\n* int: ganze Zahlen\n* float: reele Zahlen (rationale und irrationale)\n* bool: Wahrheitswerte\n* string: Zeichenketten\n* NoneType: kein Wert, None\n\nIn Python ist es nicht notwendig, den Typ eines Datums explizit anzugeben. Der Interpreter wählt den Typus, der am besten zu dem Datum passt. Indirekt bestimmen wir dennoch durch die Art, wie wir einen Wert angeben, welchen Typ der Wert hat.",
      "metadata": {
        "id": "l2g448UgOvBh"
      }
    },
    {
      "cell_type": "code",
      "source": "a = 5\ntype(a)",
      "metadata": {
        "id": "eq1eUIYFOvBh",
        "trusted": true
      },
      "outputs": [],
      "execution_count": null
    },
    {
      "cell_type": "code",
      "source": "a = 5.0\ntype(a)",
      "metadata": {
        "id": "BxV8AKxcOvBi",
        "trusted": true
      },
      "outputs": [],
      "execution_count": null
    },
    {
      "cell_type": "code",
      "source": "a = '5'\ntype(a)",
      "metadata": {
        "id": "XdStQ93EOvBi",
        "trusted": true
      },
      "outputs": [],
      "execution_count": null
    },
    {
      "cell_type": "code",
      "source": "a = False\ntype(a)",
      "metadata": {
        "id": "0_VSovkXOvBi",
        "trusted": true
      },
      "outputs": [],
      "execution_count": null
    },
    {
      "cell_type": "code",
      "source": "x\ntype(x)",
      "metadata": {
        "id": "9x4CAU1hOvBj",
        "trusted": true
      },
      "outputs": [],
      "execution_count": null
    },
    {
      "cell_type": "code",
      "source": "x = None\ntype(x)",
      "metadata": {
        "id": "C1U1T70IOvBj",
        "trusted": true
      },
      "outputs": [],
      "execution_count": null
    },
    {
      "cell_type": "markdown",
      "source": "Das Verändern des Typs eines Werts nennen wir 'type casting'\n\n* float(3) => 3.0 (int zu float)\n* int(3.7) => 3 (keine Rundung)\n* str(5.3) => '5.3' (als drei Zeichen)",
      "metadata": {
        "id": "6-PDJuLjOvBj"
      }
    },
    {
      "cell_type": "code",
      "source": "float(3)",
      "metadata": {
        "id": "_RweBHiGOvBj",
        "trusted": true
      },
      "outputs": [],
      "execution_count": null
    },
    {
      "cell_type": "code",
      "source": "int(3.7)",
      "metadata": {
        "id": "LtEq6e3jOvBk",
        "trusted": true
      },
      "outputs": [],
      "execution_count": null
    },
    {
      "cell_type": "code",
      "source": "str(5.3)",
      "metadata": {
        "id": "3aQqesRsOvBk",
        "trusted": true
      },
      "outputs": [],
      "execution_count": null
    },
    {
      "cell_type": "code",
      "source": "a = '6.2'\ntype(a)",
      "metadata": {
        "id": "4P_txVs9OvBk",
        "trusted": true
      },
      "outputs": [],
      "execution_count": null
    },
    {
      "cell_type": "markdown",
      "source": "## Kommentare\n\nWir können mit Hilfe von Kommentaren unseren Quelltext für uns selbst und für andere Menschen leichter lesbar machen. Kommentare, die nur innerhalb einer Zeile bleiben, können wir mit einem `#` einleiten. Kommentare, die über mehrere Zeilen gehen sollen, werden mit `\"\"\"` eingeleitet und auch mit `\"\"\"` wieder beendet.",
      "metadata": {
        "id": "OA_XBFltOvBk"
      }
    },
    {
      "cell_type": "code",
      "source": "# Hier steht ein Kommentar. Kommentare werden vom Interpreter ignoriert.\n\na = 5 # Ein Kommentar darf auch hinter einer Deklaration oder Instruktion stehen.\n# Der Teil vor dem '#' wird normal ausgeführt.\n\n\"\"\"\nHier steht ein Kommentar, der mehrere Zeilen umfassen soll.\nDas ist manchmal sehr hilfreich, wenn wir eine komplizierte Stelle im Quelltext\noder eine Funktion oder etwas ähnlich komplexes beschreiben wollen.\n\"\"\"",
      "metadata": {
        "id": "uiUUZQxNOvBl",
        "trusted": true
      },
      "outputs": [],
      "execution_count": null
    },
    {
      "cell_type": "markdown",
      "source": "## Ausdrücke und Operatoren\n\nAusdrücke kombinieren Objekte und Operatoren, sie haben einen Wert und einen Typ.\n\nOperatoren auf int und float sind:\n\n* `+` Addition\n* `-` Subtraktion\n* `*` Multiplikation\n* `/` Division\n* `%` Modulo\n* `**` Exponieren\n\nKlammern definieren die Reihenfolge der Operationen eines mathematischen Ausdrucks. Wenn keine Klammern angegeben sind, gilt folgende Reihenfolge: `**` vor `*` vor `/` vor `+` und `-` (von links nach rechts)",
      "metadata": {
        "id": "yeavXVrkOvBl"
      }
    },
    {
      "cell_type": "markdown",
      "source": "### Übungsaufgabe\n\nBitte berechnet, wieviel 36,3 Grad Celsius in Fahrenheit ist.\n\nUm eine Gradangabe von Celcius zu Fahrenheit umzurechnen, wird der\nWert in Celsius mit Neun-Fünfteln multipliziert und mit 32 addiert.\n\nDeklariert dafür eine Variable c.  \nBerechnet dann den Ausdruck und speichert ihn in eine Variable f.  \nGebt f aus.",
      "metadata": {
        "id": "E1mqtbUBOvBl"
      }
    },
    {
      "cell_type": "code",
      "source": "# Wieviel ist 36,3 Grad Celsius in Fahrenheit?\n",
      "metadata": {
        "id": "ux0KBlNOOvBl",
        "trusted": true
      },
      "outputs": [],
      "execution_count": null
    },
    {
      "cell_type": "markdown",
      "source": "### Übungsaufgabe\n\nBerechnet den Umfang und den Flächeninhalt eines Kreises mit dem Durchmesser 6,8cm.  \nVerändert den Durchmesser zu 15,6cm. Wie groß sind Umfang und Flächeninhalt des Kreises nun?\n\nHinweis: Um einen Annäherungswert für Pi zu haben, können wir 21,991/7 rechnen.",
      "metadata": {
        "id": "eNGB-H1ZOvBl"
      }
    },
    {
      "cell_type": "code",
      "source": "# Welchen Umfang und welchen Flächeninhalt hat ein Kreis mit einem Durchmesser von 6,8cm?\n\n\n# Welchen Umfang und welchen Flächeninhalt hat ein Kreis mit einem Durchmesser von 15,6cm?\n\n",
      "metadata": {
        "id": "0ZhXG6q9OvBm",
        "trusted": true
      },
      "outputs": [],
      "execution_count": null
    },
    {
      "cell_type": "markdown",
      "source": "Operatoren auf Zeichenketten (string) sind:\n\n* `+` Konkatenation\n* `*` Multiplikation?",
      "metadata": {
        "id": "b-Nc69ztOvBm"
      }
    },
    {
      "cell_type": "code",
      "source": "text = 'Hello ' + 'World'\ntext",
      "metadata": {
        "id": "IridcW9KOvBm",
        "trusted": true
      },
      "outputs": [],
      "execution_count": null
    },
    {
      "cell_type": "code",
      "source": "text = 'Hello ' * 'World'\ntext",
      "metadata": {
        "id": "IytcrcZWOvBm",
        "trusted": true
      },
      "outputs": [],
      "execution_count": null
    },
    {
      "cell_type": "code",
      "source": "text = 'Hello ' * 3\ntext",
      "metadata": {
        "id": "qDdkblZZOvBn",
        "trusted": true
      },
      "outputs": [],
      "execution_count": null
    },
    {
      "cell_type": "markdown",
      "source": "## Eingabe und Ausgabe\n\nIn aller Regel schreiben wir Programme, die wir mehrfach für unterschiedliche Daten nutzen wollen. Eine Möglichkeit, wir wir dem Programm die Daten übergeben können, ist das Einlesen der Daten mit dem `input` Befehl. Das, was `input` einliest, wird immer als String betrachtet; es ist eventuell für Berechnungen notwendig, die Eingabe in eine Zahl zu konvertieren.",
      "metadata": {
        "id": "WKTz0r55OvBn"
      }
    },
    {
      "cell_type": "code",
      "source": "name = input('Bitte gib deinen Namen ein: ')\n'Hallo ' + name",
      "metadata": {
        "id": "XY3kOmBtOvBn",
        "trusted": true
      },
      "outputs": [],
      "execution_count": null
    },
    {
      "cell_type": "markdown",
      "source": "Die Ausgabe von Informationen haben wir bislang nur über die in Jupyter eingebaute Ausgabe des letzten Ausdrucks erreicht, aber natürlich gibt es auch hier andere Varianten. Die einfachste ist die Funktion `print()`. Die Beschreibung der Funktion finden wir in der Python Dokumentation: https://docs.python.org/3/library/functions.html#print",
      "metadata": {
        "id": "ka8IvYgDOvBn"
      }
    },
    {
      "cell_type": "code",
      "source": "print(\"Meine Lieblingszahl ist 37\")",
      "metadata": {
        "id": "xLtzeU11OvBn",
        "trusted": true
      },
      "outputs": [],
      "execution_count": null
    },
    {
      "cell_type": "markdown",
      "source": "### Übungsaufgabe\n\nBitte nehmt die Programme zur Berechnung des Kreis-Umfangs und der -Fläche und für die Umrechnung Celsius in Fahrenheit und erfragt die zu berechnenden Werte mit Hilfe der `input` Funktion und gebt die Resultate mit der `print` Funktion aus.",
      "metadata": {
        "id": "BnPIKKyuOvBn"
      }
    },
    {
      "cell_type": "code",
      "source": "# Schreibt das Programm zur Berechnung des Umfangs und des Flächeninhalts\n# eines Kreises so um, dass ihr nach einem beliebigen Radius oder Durchmesser fragen könnt.\n\n\n\n# Schreibt das Programm zur Umrechnung von Celsius in Fahrenheit so um,\n# dass ihr beliebige Werte umrechnen könnt.\n\n\n",
      "metadata": {
        "id": "jNo4ZWJ1OvBo",
        "trusted": true
      },
      "outputs": [],
      "execution_count": null
    },
    {
      "cell_type": "markdown",
      "source": "## Bedingungen, logische Operatoren und Vergleiche\n\nEine Bedingung ist eine Prüfung, ob ein Annahme wahr oder falsch ist. Das Ergebnis einer Bedinung ist immer `wahr` oder `falsch`. Bedingungen werden immer erst zur Laufzeit des Programms entschieden.\n\nEine Bedingung ist immer nach folgendem Muster aufgebaut:  \nWenn… Dann… Sonst…  \nif…   then… else…",
      "metadata": {
        "id": "KmKHu5r4OvBo"
      }
    },
    {
      "cell_type": "code",
      "source": "if True: # oder if False:\n    print('wahr')\nelse:\n    print('falsch')",
      "metadata": {
        "id": "zcU9EVwAOvBo",
        "trusted": true
      },
      "outputs": [],
      "execution_count": null
    },
    {
      "cell_type": "markdown",
      "source": "Um Ausdrücke im Rahmen einer Bedingung logisch miteinander verknüpfen zu können, existieren die logischen Operatoren:\n\n* `and` logische Und-Verknüpfung\n* `or` logische Oder-Verknüpfung (einschließendes Oder)\n* `not` Negation",
      "metadata": {
        "id": "alkPfgz9OvBo"
      }
    },
    {
      "cell_type": "code",
      "source": "if True or False:\n    print('wahr')\nelse:\n    print('falsch')",
      "metadata": {
        "id": "MUEY7LfXOvBo",
        "trusted": true
      },
      "outputs": [],
      "execution_count": null
    },
    {
      "cell_type": "markdown",
      "source": "Klassischerweise werden im Rahmen einer Bedinung Vergleiche angestellt. Häufig prüfen wir, ob etwas\n\n* `<` kleiner\n* `<=` kleiner oder gleich\n* `>` größer\n* `>=` größer oder gleich\n* `==` gleich\n* `!=` oder ungleich\n\nist.",
      "metadata": {
        "id": "9qP3AIE9OvBp"
      }
    },
    {
      "cell_type": "code",
      "source": "x = 5\ny = 7\n\nif x < y:\n  print('das stimmt')\nelse:\n  print('das stimmt eigentlich nicht')",
      "metadata": {
        "id": "bsXm14WMwf-4",
        "trusted": true
      },
      "outputs": [],
      "execution_count": null
    },
    {
      "cell_type": "code",
      "source": "x = 5\ny = 7\n\nif x >= y:\n    print('Verkehrte Welt…')\nelif x == y:\n    print('Das wäre noch verrückter…')\nelse:\n    print('So stimmt es…')",
      "metadata": {
        "id": "64s-zDvJOvBp",
        "trusted": true
      },
      "outputs": [],
      "execution_count": null
    },
    {
      "cell_type": "markdown",
      "source": "### Übungsaufgabe\n\nBitte entwickelt ein Programm, dass zwei ESS-Kursteilnehmer*innen nach einer Zahl zwischen 1 und 100 fragt. Die ESS-Teilnehmer*in, die die höhere Zahl hat, gewinnt. Das Programm sollte das dann adäquat ausgeben.\n\nBitte schreibt das Programm erst in Pseudo-Code und dann in Python auf.",
      "metadata": {
        "id": "zyXkRfH7OvBp"
      }
    },
    {
      "cell_type": "code",
      "source": "# Bitte schreibt ein Programm, dass zwei eingegebene Zahlen prüft. Die höhere Zahl gewinnt.\n\n",
      "metadata": {
        "id": "f2llXROQOvBp",
        "trusted": true
      },
      "outputs": [],
      "execution_count": null
    },
    {
      "cell_type": "code",
      "source": "# Das gleiche Programm, aber mit der Überprüfung, ob die Zahlen zwischen 1 und 100 liegen\n\n",
      "metadata": {
        "id": "zLiBWgkIOvBp",
        "trusted": true
      },
      "outputs": [],
      "execution_count": null
    }
  ]
}