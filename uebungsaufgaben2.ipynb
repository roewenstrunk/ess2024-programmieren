{
  "metadata": {
    "kernelspec": {
      "name": "python",
      "display_name": "Python (Pyodide)",
      "language": "python"
    },
    "language_info": {
      "codemirror_mode": {
        "name": "python",
        "version": 3
      },
      "file_extension": ".py",
      "mimetype": "text/x-python",
      "name": "python",
      "nbconvert_exporter": "python",
      "pygments_lexer": "ipython3",
      "version": "3.8"
    },
    "colab": {
      "name": "uebungsaufgaben2.ipynb",
      "provenance": [],
      "collapsed_sections": []
    }
  },
  "nbformat_minor": 4,
  "nbformat": 4,
  "cells": [
    {
      "cell_type": "markdown",
      "source": "# Übungsaufgaben 2",
      "metadata": {
        "id": "GDqhwmxNVQbN"
      }
    },
    {
      "cell_type": "code",
      "source": "# Wir wollen die durchschnittliche Anzahl Wörter in den Sätzen eines Texts berechnen\n# Der Text \"Geisterkneipe\" von Lukas Böhl liegt in der Datei \"geisterkneipe.txt\" vor\n# 1. Berechne die durchschnittliche Anzahl Wörter pro Satz in \"Geisterkneipe\"\n\n",
      "metadata": {
        "id": "RhoZHhLRVQbQ",
        "trusted": true
      },
      "outputs": [],
      "execution_count": null
    },
    {
      "cell_type": "code",
      "source": "# 1. Wir wollen eine CSV-Datei mit Angaben zu Bildern in der Bodleian Library in Oxford einlesen\n# 2. Wir geben die URLs der Bilder aus (\"{url}full/{width},/0/default.jpg\")\n# 3. Wir laden die Bilder herunter\n        \n",
      "metadata": {
        "id": "dxNzhEiVVQbS",
        "trusted": true
      },
      "outputs": [],
      "execution_count": null
    }
  ]
}