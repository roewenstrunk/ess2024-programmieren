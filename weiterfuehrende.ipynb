{
  "metadata": {
    "kernelspec": {
      "name": "python",
      "display_name": "Python (Pyodide)",
      "language": "python"
    },
    "language_info": {
      "codemirror_mode": {
        "name": "python",
        "version": 3
      },
      "file_extension": ".py",
      "mimetype": "text/x-python",
      "name": "python",
      "nbconvert_exporter": "python",
      "pygments_lexer": "ipython3",
      "version": "3.8"
    },
    "colab": {
      "name": "weiterfuehrende.ipynb",
      "provenance": [],
      "collapsed_sections": []
    }
  },
  "nbformat_minor": 4,
  "nbformat": 4,
  "cells": [
    {
      "cell_type": "markdown",
      "source": "# Weiterführende Elemente der Programmierung",
      "metadata": {
        "id": "ng4FUHvXS5DC"
      }
    },
    {
      "cell_type": "markdown",
      "source": "## Schleifen\n\nEins der wichtigsten Konstrukte für die Programmierung ist die Schleife. Schleifen erlauben es uns, einen Teil des Programms mehrmals unter (leicht) veränderten Bedingungen auszuführen.\n\nWir unterscheiden dabei zwei Arten von Schleifen: \n\n* `for`-Schleife: Iteration über eine gegebene Sequenz von Objekten\n* `while`-Schleife: Iterationen solange eine boolsche Abbruchbedingung nicht erfüllt ist",
      "metadata": {
        "id": "64Wnb-7GS5DF"
      }
    },
    {
      "cell_type": "markdown",
      "source": "### for-Schleife\n\nDie `for`-Schleife iteriert über eine vorgegebene Sequenz von Objekten, wobei die Art der Objekte sehr unterschiedlich sein kann. Jede Iteration beinhaltet dann das Objekt, das gerade \"dran\" ist.",
      "metadata": {
        "id": "Cu7IVlQ2S5DG"
      }
    },
    {
      "cell_type": "code",
      "source": "for i in [1, 2, 3, 4]:\n    print(i)",
      "metadata": {
        "id": "qzbIrVnTS5DG",
        "trusted": true
      },
      "outputs": [],
      "execution_count": null
    },
    {
      "cell_type": "code",
      "source": "for t in ['Mareike', 'Julius', 'Peter']:\n    print('Hallo ' + t)",
      "metadata": {
        "id": "bXao2bnuS5DH",
        "trusted": true
      },
      "outputs": [],
      "execution_count": null
    },
    {
      "cell_type": "code",
      "source": "for x in [3, 'Daniel', True, 5.7]:\n    print(x)",
      "metadata": {
        "id": "jO6Lm5VgS5DI",
        "trusted": true
      },
      "outputs": [],
      "execution_count": null
    },
    {
      "cell_type": "markdown",
      "source": "### while-Schleife\n\nFür die `while`-Schleife deklarieren wir keine feste Sequenz, sondern eine Abbruchbedingung. Vor jeder Iteration wird geprüft, wie der Status der Abbruchbedingung ist. Ist die Abbruchbedingung `False`, führt die Schleife eine weitere Iteration durch. Ist die Abbruchbedingung `True`, wird keine weitere Iteration mehr durchgeführt.",
      "metadata": {
        "id": "_Po6QDwBS5DI"
      }
    },
    {
      "cell_type": "code",
      "source": "i = 0\nwhile i < 5:\n    print(i)\n    i += 2\n    ",
      "metadata": {
        "id": "wpJEIpicS5DJ",
        "trusted": true
      },
      "outputs": [],
      "execution_count": null
    },
    {
      "cell_type": "code",
      "source": "# VORSICHT!!!! Nicht ausführen. Das ist eine Endlosschleife!\n\nwhile True:\n  print('.')",
      "metadata": {
        "id": "8MLWlED75tG0",
        "trusted": true
      },
      "outputs": [],
      "execution_count": null
    },
    {
      "cell_type": "markdown",
      "source": "### Nützliche Konstrukte für Schleifen\n\nDie Funktion `range()` erzeugt eine Sequenz mit Zahlen: https://docs.python.org/3/library/functions.html#func-range",
      "metadata": {
        "id": "0q4ygAp5S5DK"
      }
    },
    {
      "cell_type": "code",
      "source": "for x in range(5):\n    print(x)\n\nprint('----')\n\nfor x in range(3, 6):\n    print(x)\n\nprint('----')\n\nfor x in range(3, 16, 5):\n    print(x)",
      "metadata": {
        "id": "FHSUVRdBS5DK",
        "trusted": true
      },
      "outputs": [],
      "execution_count": null
    },
    {
      "cell_type": "markdown",
      "source": "Die Funktion `enumerate()` iteriert über einzelne Elemente eines Objekts (z.B. einem String). Spannend an dieser Funktion ist, dass sie uns nicht nur das Element zurückgibt, das sie gerade betrachtet, sondern auch dessen Position.  \nhttps://docs.python.org/3/library/functions.html#enumerate",
      "metadata": {
        "id": "AZaJB2SJS5DK"
      }
    },
    {
      "cell_type": "code",
      "source": "for index, elem in enumerate(['Mareike', 'Julius', 'Peter']):\n    print(index, ': ' + elem, sep='')",
      "metadata": {
        "id": "wST1z2ZBS5DL",
        "trusted": true
      },
      "outputs": [],
      "execution_count": null
    },
    {
      "cell_type": "markdown",
      "source": "### Übungsaufgabe\n\nGegeben ist ein etwas merkwürdiger Text `text = 'E4dcitrzosm_ tS4ulmdmweürc lS-cfhhosoglä'`, mit dem offenbar etwas schief gelaufen ist. Bitte schreibt ein Programm, das immer nur den zweiten Buchstaben des Texts ausgibt.",
      "metadata": {
        "id": "Xq5BP0-ZS5DL"
      }
    },
    {
      "cell_type": "code",
      "source": "# Bitte schreibt ein Programm, das Zeichen für Zeichen durch\n# den Text iteriert und jedes zweite Zeichen ausgibt.\n# Hinweise: enumerate(), modulo und print()\n\n",
      "metadata": {
        "id": "6rmikOK1S5DL",
        "trusted": true
      },
      "outputs": [],
      "execution_count": null
    },
    {
      "cell_type": "code",
      "source": "# Schreibe einen Dezimal zu Hexadezimal Konverter\n# 1. Teile die Dezimalzahl durch 16\n# 2. Merke dir das ganzzahlige Ergebnis für die nächste Iteration\n# 3. Übertrage den ganzzahligen Rest in Hexadezimal-Form\n# 4. Wiederhole den Vorgang mit dem gemerkten ganzzahligen Ergebnis bis dieses 0 ist\n\n\n\n# 0 1 2 3 4 5 6 7 8 9 10 11 12 13 14 15 (Dezimal)\n# 0 1 2 3 4 5 6 7 8 9 A  B  C  D  E  F  (Hexadezimal)\n",
      "metadata": {
        "id": "4UvAExlPkNXI",
        "trusted": true
      },
      "outputs": [],
      "execution_count": null
    },
    {
      "cell_type": "markdown",
      "source": "## Datenstrukturen\n\n### Tuples\n\nTuples sind einfache Listen in Python, die nicht mehr veränderbar sind, wenn sie einmal deklariert wurden.",
      "metadata": {
        "id": "vwW7OtbAS5DM"
      }
    },
    {
      "cell_type": "code",
      "source": "beispiel_tuple = ('Mareike', 'Julius', 'Peter', 3, 7.5, 'Julius', 'Daniel')\n\nfor elem in beispiel_tuple:\n    print(elem,  ' (Datentyp = ', type(elem), ')', sep='')",
      "metadata": {
        "id": "ehwW62rwS5DM",
        "trusted": true
      },
      "outputs": [],
      "execution_count": null
    },
    {
      "cell_type": "code",
      "source": "print(beispiel_tuple[0])",
      "metadata": {
        "id": "p3FHa_unS5DM",
        "trusted": true
      },
      "outputs": [],
      "execution_count": null
    },
    {
      "cell_type": "code",
      "source": "print(beispiel_tuple[4])",
      "metadata": {
        "id": "f0nH8W-XS5DM",
        "trusted": true
      },
      "outputs": [],
      "execution_count": null
    },
    {
      "cell_type": "code",
      "source": "print(beispiel_tuple[-3])",
      "metadata": {
        "id": "WkHr6NpIS5DM",
        "trusted": true
      },
      "outputs": [],
      "execution_count": null
    },
    {
      "cell_type": "code",
      "source": "beispiel_tuple.count('Julius')",
      "metadata": {
        "id": "02pCYLMQS5DN",
        "trusted": true
      },
      "outputs": [],
      "execution_count": null
    },
    {
      "cell_type": "code",
      "source": "beispiel_tuple.index('Julius')",
      "metadata": {
        "id": "o2dQ2ERiS5DN",
        "trusted": true
      },
      "outputs": [],
      "execution_count": null
    },
    {
      "cell_type": "markdown",
      "source": "### Lists\n\nListen sind wie Tuples eine Sequenz von Objekten. Listen können aber zur Laufzeit verändert werden. Es können sowohl die Werte in einer Liste verändert werden als auch die Anzahl der Elemente veringert oder vergrößert werden.",
      "metadata": {
        "id": "O7wYujWnS5DN"
      }
    },
    {
      "cell_type": "code",
      "source": "beispiel_list = ['Mareike', 'Julius', 'Peter', 3, 7.5, 'Julius', 'Daniel']\n\nbeispiel_list.remove('Julius')\n\nfor index, elem in enumerate(beispiel_list):\n    print(str(index) + ': ' + str(elem))",
      "metadata": {
        "id": "GV-bRSQGS5DN",
        "trusted": true
      },
      "outputs": [],
      "execution_count": null
    },
    {
      "cell_type": "code",
      "source": "print(beispiel_list[1])\nprint(beispiel_list[2:4])\nprint(beispiel_list[:2])\nprint(beispiel_list[4:])",
      "metadata": {
        "id": "xnour5lHS5DN",
        "trusted": true
      },
      "outputs": [],
      "execution_count": null
    },
    {
      "cell_type": "code",
      "source": "print(beispiel_list)\nbeispiel_list[1] = 'Dennis'\nbeispiel_list[4:5] = ('Fiona', 'Fiona')\nprint(beispiel_list)",
      "metadata": {
        "id": "rN3JW7d8S5DN",
        "trusted": true
      },
      "outputs": [],
      "execution_count": null
    },
    {
      "cell_type": "code",
      "source": "if 'Daniel' in beispiel_list:\n    print('Ja, Daniel ist in der Liste')",
      "metadata": {
        "id": "AsKeoqgQS5DO",
        "trusted": true
      },
      "outputs": [],
      "execution_count": null
    },
    {
      "cell_type": "code",
      "source": "print(len(beispiel_list))\nbeispiel_list.append('Anastasia')\nprint(len(beispiel_list))\n\nprint(beispiel_list)\nbeispiel_list.insert(1, 'Johannes')\n\nprint(beispiel_list)\nbeispiel_list.pop()\n\nprint(beispiel_list)\nbeispiel_list.remove('Fiona')\n\nprint(beispiel_list)\ndel beispiel_list[2]\n\nprint(beispiel_list)",
      "metadata": {
        "id": "UQoFPKrlS5DO",
        "trusted": true
      },
      "outputs": [],
      "execution_count": null
    },
    {
      "cell_type": "markdown",
      "source": "Eine Übersicht der Funktionen, die wir auf Listen ausführen können, findet ihr hier: https://www.w3schools.com/python/python_lists.asp",
      "metadata": {
        "id": "JusPTVVRS5DO"
      }
    },
    {
      "cell_type": "markdown",
      "source": "### Sets\n\nSets sind Sammlungen von Werten. Die Werte dürfen alle nur einmal vorkommen. Eine feste Reihenfolge haben Sets nicht. Die Funktionen, die wir auf Sets ausführen können, findet ihr hier: https://www.w3schools.com/python/python_sets.asp",
      "metadata": {
        "id": "3btQjpZtS5DO"
      }
    },
    {
      "cell_type": "code",
      "source": "beispiel_set = {'Daniel', 'Anastasia', 'Peter'}\n\nfor elem in beispiel_set:\n    print(elem)",
      "metadata": {
        "id": "3x0WI0CVS5DO",
        "trusted": true
      },
      "outputs": [],
      "execution_count": null
    },
    {
      "cell_type": "markdown",
      "source": "### Dictionaries\n\nDictionaries sind Sammlungen von Werten, die wie bei Sets unsortiert sind. Im Gegensatz zu Sets besitzen die Einträge in einem Dictionary immer einen `Key` und einen `Value`. Werte in einem Dictionary sind somit adressierbar.",
      "metadata": {
        "id": "6__yLbTQS5DP"
      }
    },
    {
      "cell_type": "code",
      "source": "beispiel_dictionary = {\n    'work': 'Der Freischütz',\n    'composer': 'Carl Maria von Weber',\n    'date': 1821\n}\n\nprint(beispiel_dictionary['work'])\nprint(beispiel_dictionary.get('composer'))\nprint(beispiel_dictionary['composer'])\n\nbeispiel_dictionary['date'] = 1820 # Entschuldigt, ich habe mich vertan ;-)\n\nprint(beispiel_dictionary)",
      "metadata": {
        "id": "w7n7fD-uS5DP",
        "trusted": true
      },
      "outputs": [],
      "execution_count": null
    },
    {
      "cell_type": "code",
      "source": "for key, value in beispiel_dictionary.items():\n    print(key, value)",
      "metadata": {
        "id": "kG2Lj9SbS5DP",
        "trusted": true
      },
      "outputs": [],
      "execution_count": null
    },
    {
      "cell_type": "markdown",
      "source": "Die Funktionen, die wir im Zusammenhang mit Dictionaries benutzen können, findet ihr hier: https://www.w3schools.com/python/python_dictionaries.asp",
      "metadata": {
        "id": "IQ9Szu5YS5DP"
      }
    },
    {
      "cell_type": "markdown",
      "source": "### Übungsaufgabe\n\nErfrage bei deiner Nutzer:in ihren Vornamen, den Nachnamen und das Geburtsjahr. Speichere diese Werte in einem Dictionary. Lies aus dem Datensatz den Vornamen aus und berechne das Alter anhand des Geburtsjahres. Gib einen Satz aus, in dem du die Nutzer:in mit ihrem Vornamen ansprichst und ihr ihr Alter nennst.",
      "metadata": {
        "id": "mM4qF1c1S5DP"
      }
    },
    {
      "cell_type": "code",
      "source": "# Übungsaufgabe zu Dictionaries\n\n",
      "metadata": {
        "id": "mV7e-HejS5DP",
        "trusted": true
      },
      "outputs": [],
      "execution_count": null
    },
    {
      "cell_type": "markdown",
      "source": "## Funktionen\n\nFür wiederkehrende Aufgaben schreiben wir uns Funktionen, damit wir den Programmabschnitt nicht öfter schreiben müssen. Funktionen werden im Programm einmal definiert und können dann beliebig oft aufgerufen werden.",
      "metadata": {
        "id": "0mCi5wEoS5DP"
      }
    },
    {
      "cell_type": "code",
      "source": "def hello_world():\n    print(\"Hello World\")\n\nhello_world()\nhello_world()",
      "metadata": {
        "id": "ehO-V3XLS5DQ",
        "trusted": true
      },
      "outputs": [],
      "execution_count": null
    },
    {
      "cell_type": "code",
      "source": "\"\"\"\nBerechnet das Alter einer Person im Jahr 2024.\n\"\"\"\ndef berechne_alter(person):\n  AKTUELLES_JAHR = 2024\n  geburtsjahr = person['geburtsjahr']\n  return AKTUELLES_JAHR - geburtsjahr\n",
      "metadata": {
        "id": "xrCCh-JlS5DQ",
        "trusted": true
      },
      "outputs": [],
      "execution_count": null
    },
    {
      "cell_type": "code",
      "source": "# Übung zu Funktionen\n# Ändert das oben stehende Programm zu dem Dictionary so, dass es die neue Funktion nutzt\n",
      "metadata": {
        "id": "N7tkwFe3S5DQ",
        "trusted": true
      },
      "outputs": [],
      "execution_count": null
    },
    {
      "cell_type": "code",
      "source": "# Funktionen können, wie wir ja auch schon gesehen haben, mehrere Parameter haben. \ndef funktion1(*args):\n    print(args)\n\nfunktion1('Dennis')\nfunktion1()",
      "metadata": {
        "id": "u6ZDAH_dS5DQ",
        "trusted": true
      },
      "outputs": [],
      "execution_count": null
    },
    {
      "cell_type": "code",
      "source": "# Argumente können auch mit dem Parametername an eine Funktion übergeben werden\ndef funktion2(arg1, arg2):\n    print(f\"arg1 {arg1} und arg2 {arg2}\")\n\nfunktion2('steht vorn', 'steht hinten')\nfunktion2(arg2='steht hinten', arg1='steht vorne')",
      "metadata": {
        "id": "CQeAY8_DS5DQ",
        "trusted": true
      },
      "outputs": [],
      "execution_count": null
    },
    {
      "cell_type": "code",
      "source": "# Und es können Default-Werte angegeben werden\ndef funktion3(arg1='Wenn nichts da ist, nehme ich diesen Wert'):\n    print(arg1)\n    \nfunktion3()\nfunktion3('Hier kommt aber doch etwas')",
      "metadata": {
        "id": "IUHVVgQ7S5DQ",
        "trusted": true
      },
      "outputs": [],
      "execution_count": null
    },
    {
      "cell_type": "markdown",
      "source": "## Module\n\nModule sind Python-Dateien, die Statements und Functions beinhalten, die wir in unseren Scripten (nach-)nutzen können. Es gibt für viele Kontexte Module, die uns das Programmieren deutlich erleichtern.\n\nEin Beispiel dafür ist das Modul `random`: https://docs.python.org/3/library/random.html",
      "metadata": {
        "id": "bSSm264bp1ai"
      }
    },
    {
      "cell_type": "code",
      "source": "import random\n\nrandom.randint(0,100)",
      "metadata": {
        "id": "gHxQB_Onu9lT",
        "trusted": true
      },
      "outputs": [],
      "execution_count": null
    },
    {
      "cell_type": "code",
      "source": "from random import randint\n\nrandint(10,20)",
      "metadata": {
        "id": "ZZNxjam9vyjo",
        "trusted": true
      },
      "outputs": [],
      "execution_count": null
    },
    {
      "cell_type": "code",
      "source": "from random import randint, random\n\nrandom()",
      "metadata": {
        "id": "11uMiAjDwFfM",
        "trusted": true
      },
      "outputs": [],
      "execution_count": null
    },
    {
      "cell_type": "code",
      "source": "from random import random as rnd\n\nrnd()",
      "metadata": {
        "id": "5bXwaoDjwRMP",
        "trusted": true
      },
      "outputs": [],
      "execution_count": null
    },
    {
      "cell_type": "markdown",
      "source": "### Übung zu Modulen\n\nSchreibe einen Password-Generator. Nutze dafür die Module `random` und `string` (https://docs.python.org/3/library/string.html). Das Password soll 16 Zeichen lang sein.",
      "metadata": {
        "id": "y1qXMuuiweon"
      }
    },
    {
      "cell_type": "code",
      "source": "# Übung zu Modulen: Password-Generator\n\n\n",
      "metadata": {
        "id": "RLU8FHqVxAib",
        "trusted": true
      },
      "outputs": [],
      "execution_count": null
    }
  ]
}